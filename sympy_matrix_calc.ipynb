{
 "cells": [
  {
   "cell_type": "code",
   "execution_count": 3,
   "metadata": {},
   "outputs": [],
   "source": [
    "from sympy import *"
   ]
  },
  {
   "cell_type": "code",
   "execution_count": 65,
   "metadata": {},
   "outputs": [],
   "source": [
    "expr = exp(x * y * z)"
   ]
  },
  {
   "cell_type": "code",
   "execution_count": 4,
   "metadata": {},
   "outputs": [],
   "source": [
    "x, y, z, u, v, w = symbols('x y z u v w')\n"
   ]
  },
  {
   "cell_type": "code",
   "execution_count": 5,
   "metadata": {},
   "outputs": [],
   "source": [
    "init_printing(use_unicode=True)"
   ]
  },
  {
   "cell_type": "code",
   "execution_count": 6,
   "metadata": {},
   "outputs": [],
   "source": [
    "expr = exp(x * y * z)"
   ]
  },
  {
   "cell_type": "code",
   "execution_count": 12,
   "metadata": {},
   "outputs": [],
   "source": [
    "f =  3 * x ** 2 * y\n",
    "\n",
    "g = 2 * x + y ** 8"
   ]
  },
  {
   "cell_type": "code",
   "execution_count": 108,
   "metadata": {},
   "outputs": [],
   "source": [
    "def jacobian_xyz(*f):\n",
    "    a = [ex for ex in [diff(f[0], x), diff(f[0], y), diff(f[0], z)]]\n",
    "    b = [exp for exp in [diff(f[1], x), diff(f[1], y), diff(f[1], z)]]\n",
    "    c = [exp for exp in [diff(f[2], x), diff(f[2], y), diff(f[2], z)]]\n",
    "    return [[a], [b], [c]]\n",
    "\n",
    "def jacobian_uvw(*f):\n",
    "    a = [ex for ex in [diff(f[0], u), diff(f[0], v), diff(f[0], w)]]\n",
    "    b = [exp for exp in [diff(f[1], u), diff(f[1], v), diff(f[1], w)]]\n",
    "    c = [exp for exp in [diff(f[2], u), diff(f[2], v), diff(f[2], w)]]\n",
    "    return [[a], [b], [c]]"
   ]
  },
  {
   "cell_type": "code",
   "execution_count": 36,
   "metadata": {},
   "outputs": [],
   "source": [
    "id1 = x\n",
    "id2 = y"
   ]
  },
  {
   "cell_type": "code",
   "execution_count": 45,
   "metadata": {},
   "outputs": [
    {
     "data": {
      "image/png": "[encoded data removed]",
      "text/latex": [
       "$$\\left [ \\left [ \\left [ 1, \\quad 0, \\quad 0\\right ]\\right ], \\quad \\left [ \\left [ 0, \\quad 1, \\quad 0\\right ]\\right ], \\quad \\left [ \\left [ 0, \\quad 1, \\quad 0\\right ]\\right ]\\right ]$$"
      ],
      "text/plain": [
       "[[[1, 0, 0]], [[0, 1, 0]], [[0, 1, 0]]]"
      ]
     },
     "execution_count": 45,
     "metadata": {},
     "output_type": "execute_result"
    }
   ],
   "source": [
    "jacobian(id1, id2, id2)"
   ]
  },
  {
   "cell_type": "code",
   "execution_count": 38,
   "metadata": {},
   "outputs": [],
   "source": [
    "import numpy as np"
   ]
  },
  {
   "cell_type": "code",
   "execution_count": 66,
   "metadata": {},
   "outputs": [],
   "source": [
    "f1 = x\n",
    "f2 = y\n",
    "f3 = z\n",
    "g1 = u\n",
    "g2 = v\n",
    "g3 = w + 1"
   ]
  },
  {
   "cell_type": "code",
   "execution_count": 67,
   "metadata": {},
   "outputs": [
    {
     "data": {
      "image/png": "[encoded data removed]",
      "text/latex": [
       "$$\\left [ \\left [ \\left [ 0, \\quad 0, \\quad 0\\right ]\\right ], \\quad \\left [ \\left [ 0, \\quad 0, \\quad 0\\right ]\\right ], \\quad \\left [ \\left [ 0, \\quad 0, \\quad 0\\right ]\\right ]\\right ]$$"
      ],
      "text/plain": [
       "[[[0, 0, 0]], [[0, 0, 0]], [[0, 0, 0]]]"
      ]
     },
     "execution_count": 67,
     "metadata": {},
     "output_type": "execute_result"
    }
   ],
   "source": [
    "jacobian_uvw(f1 * g1, f2 * g2, f3 * g3)"
   ]
  },
  {
   "cell_type": "code",
   "execution_count": 69,
   "metadata": {},
   "outputs": [
    {
     "data": {
      "image/png": "[encoded data removed]",
      "text/latex": [
       "$$\\left [ \\left [ \\left [ 1, \\quad 0, \\quad 0\\right ]\\right ], \\quad \\left [ \\left [ 0, \\quad 1, \\quad 0\\right ]\\right ], \\quad \\left [ \\left [ 0, \\quad 0, \\quad 1\\right ]\\right ]\\right ]$$"
      ],
      "text/plain": [
       "[[[1, 0, 0]], [[0, 1, 0]], [[0, 0, 1]]]"
      ]
     },
     "execution_count": 69,
     "metadata": {},
     "output_type": "execute_result"
    }
   ],
   "source": [
    "jacobian_uvw(f1 + g1, f2 + g2, f3 + g3)"
   ]
  },
  {
   "cell_type": "code",
   "execution_count": 63,
   "metadata": {},
   "outputs": [
    {
     "data": {
      "image/png": "[encoded data removed]",
      "text/latex": [
       "$$\\left [ \\left [ \\left [ - \\frac{x}{u^{2}}, \\quad 0, \\quad 0\\right ]\\right ], \\quad \\left [ \\left [ 0, \\quad - \\frac{y}{v^{2}}, \\quad 0\\right ]\\right ], \\quad \\left [ \\left [ 0, \\quad 0, \\quad - \\frac{z}{\\left(w + 1\\right)^{2}}\\right ]\\right ]\\right ]$$"
      ],
      "text/plain": [
       "⎡⎡⎡-x       ⎤⎤  ⎡⎡   -y    ⎤⎤  ⎡⎡        -z    ⎤⎤⎤\n",
       "⎢⎢⎢───, 0, 0⎥⎥, ⎢⎢0, ───, 0⎥⎥, ⎢⎢0, 0, ────────⎥⎥⎥\n",
       "⎢⎢⎢  2      ⎥⎥  ⎢⎢     2   ⎥⎥  ⎢⎢             2⎥⎥⎥\n",
       "⎣⎣⎣ u       ⎦⎦  ⎣⎣    v    ⎦⎦  ⎣⎣      (w + 1) ⎦⎦⎦"
      ]
     },
     "execution_count": 63,
     "metadata": {},
     "output_type": "execute_result"
    }
   ],
   "source": [
    "jacobian_uvw(f1 / g1, f2 / g2, f3 / g3)"
   ]
  },
  {
   "cell_type": "code",
   "execution_count": 109,
   "metadata": {},
   "outputs": [
    {
     "ename": "NameError",
     "evalue": "name 'f1' is not defined",
     "output_type": "error",
     "traceback": [
      "\u001b[0;31m---------------------------------------------------------------------------\u001b[0m",
      "\u001b[0;31mNameError\u001b[0m                                 Traceback (most recent call last)",
      "\u001b[0;32m<ipython-input-109-9817c38cec7e>\u001b[0m in \u001b[0;36m<module>\u001b[0;34m()\u001b[0m\n\u001b[0;32m----> 1\u001b[0;31m \u001b[0mjacobian_xyz\u001b[0m\u001b[0;34m(\u001b[0m\u001b[0mf1\u001b[0m \u001b[0;34m*\u001b[0m \u001b[0mg1\u001b[0m\u001b[0;34m,\u001b[0m \u001b[0mf2\u001b[0m \u001b[0;34m*\u001b[0m \u001b[0mg2\u001b[0m\u001b[0;34m,\u001b[0m \u001b[0mf3\u001b[0m \u001b[0;34m*\u001b[0m \u001b[0mg3\u001b[0m\u001b[0;34m)\u001b[0m\u001b[0;34m\u001b[0m\u001b[0m\n\u001b[0m",
      "\u001b[0;31mNameError\u001b[0m: name 'f1' is not defined"
     ]
    }
   ],
   "source": [
    "jacobian_xyz(f1 * g1, f2 * g2, f3 * g3)"
   ]
  },
  {
   "cell_type": "code",
   "execution_count": 76,
   "metadata": {},
   "outputs": [],
   "source": [
    "f1 = x\n",
    "f2 = y\n",
    "f3 = z\n",
    "g1 = u\n",
    "g2 = u\n",
    "g3 = u"
   ]
  },
  {
   "cell_type": "code",
   "execution_count": 77,
   "metadata": {},
   "outputs": [
    {
     "data": {
      "image/png": "[encoded data removed]",
      "text/latex": [
       "$$\\left [ \\left [ \\left [ 1, \\quad 0, \\quad 0\\right ]\\right ], \\quad \\left [ \\left [ 0, \\quad 1, \\quad 0\\right ]\\right ], \\quad \\left [ \\left [ 0, \\quad 0, \\quad 1\\right ]\\right ]\\right ]$$"
      ],
      "text/plain": [
       "[[[1, 0, 0]], [[0, 1, 0]], [[0, 0, 1]]]"
      ]
     },
     "execution_count": 77,
     "metadata": {},
     "output_type": "execute_result"
    }
   ],
   "source": [
    "jacobian_xyz(f1 + g1, f2 + g2, f3 + g3)"
   ]
  },
  {
   "cell_type": "code",
   "execution_count": 79,
   "metadata": {},
   "outputs": [
    {
     "data": {
      "image/png": "[encoded data removed]",
      "text/latex": [
       "$$\\left [ \\left [ \\left [ 1, \\quad 0, \\quad 0\\right ]\\right ], \\quad \\left [ \\left [ 1, \\quad 0, \\quad 0\\right ]\\right ], \\quad \\left [ \\left [ 1, \\quad 0, \\quad 0\\right ]\\right ]\\right ]$$"
      ],
      "text/plain": [
       "[[[1, 0, 0]], [[1, 0, 0]], [[1, 0, 0]]]"
      ]
     },
     "execution_count": 79,
     "metadata": {},
     "output_type": "execute_result"
    }
   ],
   "source": [
    "jacobian_uvw(f1 + g1, f2 + g2, f3 + g3)"
   ]
  },
  {
   "cell_type": "code",
   "execution_count": 80,
   "metadata": {},
   "outputs": [
    {
     "data": {
      "image/png": "[encoded data removed]",
      "text/latex": [
       "$$\\left [ \\left [ \\left [ u, \\quad 0, \\quad 0\\right ]\\right ], \\quad \\left [ \\left [ 0, \\quad u, \\quad 0\\right ]\\right ], \\quad \\left [ \\left [ 0, \\quad 0, \\quad u\\right ]\\right ]\\right ]$$"
      ],
      "text/plain": [
       "[[[u, 0, 0]], [[0, u, 0]], [[0, 0, u]]]"
      ]
     },
     "execution_count": 80,
     "metadata": {},
     "output_type": "execute_result"
    }
   ],
   "source": [
    "jacobian_xyz(f1 * g1, f2 * g2, f3 * g3)"
   ]
  },
  {
   "cell_type": "code",
   "execution_count": 81,
   "metadata": {},
   "outputs": [
    {
     "data": {
      "image/png": "[encoded data removed]",
      "text/latex": [
       "$$\\left [ \\left [ \\left [ x, \\quad 0, \\quad 0\\right ]\\right ], \\quad \\left [ \\left [ y, \\quad 0, \\quad 0\\right ]\\right ], \\quad \\left [ \\left [ z, \\quad 0, \\quad 0\\right ]\\right ]\\right ]$$"
      ],
      "text/plain": [
       "[[[x, 0, 0]], [[y, 0, 0]], [[z, 0, 0]]]"
      ]
     },
     "execution_count": 81,
     "metadata": {},
     "output_type": "execute_result"
    }
   ],
   "source": [
    "jacobian_uvw(f1 * g1, f2 * g2, f3 * g3)"
   ]
  },
  {
   "cell_type": "code",
   "execution_count": 82,
   "metadata": {},
   "outputs": [
    {
     "data": {
      "image/png": "[encoded data removed]",
      "text/latex": [
       "$$\\left [ \\left [ \\left [ 1, \\quad 0, \\quad 0\\right ]\\right ], \\quad \\left [ \\left [ 1, \\quad 0, \\quad 0\\right ]\\right ], \\quad \\left [ \\left [ 1, \\quad 0, \\quad 0\\right ]\\right ]\\right ]$$"
      ],
      "text/plain": [
       "[[[1, 0, 0]], [[1, 0, 0]], [[1, 0, 0]]]"
      ]
     },
     "execution_count": 82,
     "metadata": {},
     "output_type": "execute_result"
    }
   ],
   "source": [
    "jacobian_uvw(f1 + g1, f2 + g2, f3 + g3)\n"
   ]
  },
  {
   "cell_type": "code",
   "execution_count": 116,
   "metadata": {},
   "outputs": [],
   "source": [
    "def gradient(u, *xs):\n",
    "    return  [diff(u, x) for x in xs]"
   ]
  },
  {
   "cell_type": "code",
   "execution_count": 117,
   "metadata": {},
   "outputs": [
    {
     "data": {
      "image/png": "[encoded data removed]",
      "text/latex": [
       "$$\\left [ 1, \\quad 0\\right ]$$"
      ],
      "text/plain": [
       "[1, 0]"
      ]
     },
     "execution_count": 117,
     "metadata": {},
     "output_type": "execute_result"
    }
   ],
   "source": [
    "gradient(u1, x, y)"
   ]
  },
  {
   "cell_type": "code",
   "execution_count": 121,
   "metadata": {},
   "outputs": [],
   "source": [
    "u1 = x * z\n",
    "u2 = y * z"
   ]
  },
  {
   "cell_type": "code",
   "execution_count": 97,
   "metadata": {},
   "outputs": [
    {
     "data": {
      "image/png": "[encoded data removed]",
      "text/latex": [
       "$$2 x + 2 y$$"
      ],
      "text/plain": [
       "2⋅x + 2⋅y"
      ]
     },
     "execution_count": 97,
     "metadata": {},
     "output_type": "execute_result"
    }
   ],
   "source": [
    "def my_sum(us):\n",
    "    return sum(us)\n",
    "my_sum([u1, u2])"
   ]
  },
  {
   "cell_type": "code",
   "execution_count": 98,
   "metadata": {},
   "outputs": [],
   "source": [
    "def jacobian(fs, *x):\n",
    "    return [gradient(u, v) for u in fs for v in x]"
   ]
  },
  {
   "cell_type": "code",
   "execution_count": 99,
   "metadata": {},
   "outputs": [
    {
     "data": {
      "image/png": "[encoded data removed]",
      "text/latex": [
       "$$\\left [ \\left [ 1\\right ], \\quad \\left [ 1\\right ], \\quad \\left [ 1\\right ], \\quad \\left [ 1\\right ]\\right ]$$"
      ],
      "text/plain": [
       "[[1], [1], [1], [1]]"
      ]
     },
     "execution_count": 99,
     "metadata": {},
     "output_type": "execute_result"
    }
   ],
   "source": [
    "jacobian([u1, u2], x, y)"
   ]
  },
  {
   "cell_type": "code",
   "execution_count": 124,
   "metadata": {},
   "outputs": [
    {
     "data": {
      "image/png": "[encoded data removed]",
      "text/latex": [
       "$$\\left [ x + y\\right ]$$"
      ],
      "text/plain": [
       "[x + y]"
      ]
     },
     "execution_count": 124,
     "metadata": {},
     "output_type": "execute_result"
    }
   ],
   "source": [
    "gradient(my_sum([u1, u2]), z)"
   ]
  },
  {
   "cell_type": "code",
   "execution_count": 126,
   "metadata": {},
   "outputs": [
    {
     "data": {
      "image/png": "[encoded data removed]",
      "text/latex": [
       "$$\\left [ z, \\quad z\\right ]$$"
      ],
      "text/plain": [
       "[z, z]"
      ]
     },
     "execution_count": 126,
     "metadata": {},
     "output_type": "execute_result"
    }
   ],
   "source": [
    "gradient(my_sum([u1, u2]), x, y)\n"
   ]
  },
  {
   "cell_type": "code",
   "execution_count": null,
   "metadata": {},
   "outputs": [],
   "source": []
  },
  {
   "cell_type": "code",
   "execution_count": 44,
   "metadata": {},
   "outputs": [],
   "source": []
  }
 ],
 "metadata": {
  "kernelspec": {
   "display_name": "Python 3",
   "language": "python",
   "name": "python3"
  },
  "language_info": {
   "codemirror_mode": {
    "name": "ipython",
    "version": 3
   },
   "file_extension": ".py",
   "mimetype": "text/x-python",
   "name": "python",
   "nbconvert_exporter": "python",
   "pygments_lexer": "ipython3",
   "version": "3.7.0"
  }
 },
 "nbformat": 4,
 "nbformat_minor": 2
}
